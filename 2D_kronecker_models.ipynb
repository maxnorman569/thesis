{
 "cells": [
  {
   "cell_type": "code",
   "execution_count": 49,
   "metadata": {},
   "outputs": [],
   "source": [
    "# numerical imports\n",
    "import torch\n",
    "import numpy as np\n",
    "# GP imports\n",
    "from kronecker_structure_models import SVGP2D, VFFGP2D, ASVGPGP2D\n",
    "# plotting imports\n",
    "import matplotlib.pyplot as plt\n",
    "# data imports\n",
    "from utilsA import gen_2d\n",
    "# misc imports\n",
    "from tqdm import tqdm"
   ]
  },
  {
   "attachments": {},
   "cell_type": "markdown",
   "metadata": {},
   "source": [
    "# Synthetically Generated Data"
   ]
  },
  {
   "cell_type": "code",
   "execution_count": 10,
   "metadata": {},
   "outputs": [],
   "source": [
    "# data generating function\n",
    "def squiggly_func_2d(x1, x2):\n",
    "    return (\n",
    "        np.sin(5 * x1) + np.cos(7 * x2) +\n",
    "        0.5 * np.sin(15 * x1) + 0.5 * np.cos(12 * x2) +\n",
    "        0.2 * np.sin(20 * x1) + 0.2 * np.cos(25 * x2)\n",
    "    )"
   ]
  },
  {
   "cell_type": "code",
   "execution_count": 15,
   "metadata": {},
   "outputs": [],
   "source": [
    "# data generating meta\n",
    "X1LIMS = (0., 1.)\n",
    "X2LIMS = (0., 1.)\n",
    "N_OBS = 25 # 25 X 25 = 625 observations\n",
    "# plotting meta\n",
    "EXTENT = [X1LIMS[0], X1LIMS[1], X2LIMS[0], X2LIMS[1]]"
   ]
  },
  {
   "cell_type": "code",
   "execution_count": 16,
   "metadata": {},
   "outputs": [],
   "source": [
    "X, y = gen_2d(squiggly_func_2d, X1LIMS, X2LIMS, N_OBS)"
   ]
  },
  {
   "cell_type": "code",
   "execution_count": 22,
   "metadata": {},
   "outputs": [
    {
     "data": {
      "image/png": "[encoded data removed]",
      "text/plain": [
       "<Figure size 640x480 with 2 Axes>"
      ]
     },
     "metadata": {},
     "output_type": "display_data"
    }
   ],
   "source": [
    "plt.imshow(y.reshape(N_OBS, N_OBS), extent = EXTENT, cmap='coolwarm')\n",
    "plt.colorbar()\n",
    "# plot style\n",
    "plt.xlabel('x1')\n",
    "plt.ylabel('x2')\n",
    "plt.title('y');"
   ]
  },
  {
   "cell_type": "code",
   "execution_count": 25,
   "metadata": {},
   "outputs": [],
   "source": [
    "# training data\n",
    "X_train = torch.tensor(X, dtype=torch.float64)\n",
    "y_train = torch.tensor(y.ravel(), dtype=torch.float64)"
   ]
  },
  {
   "attachments": {},
   "cell_type": "markdown",
   "metadata": {},
   "source": [
    "# SVGP"
   ]
  },
  {
   "cell_type": "code",
   "execution_count": 26,
   "metadata": {},
   "outputs": [],
   "source": [
    "N_INDUCING = 15 "
   ]
  },
  {
   "cell_type": "code",
   "execution_count": 27,
   "metadata": {},
   "outputs": [],
   "source": [
    "# inducing points \n",
    "Z = torch.tensor(np.random.rand(N_INDUCING, 2), dtype=torch.float64)"
   ]
  },
  {
   "cell_type": "code",
   "execution_count": 28,
   "metadata": {},
   "outputs": [],
   "source": [
    "# model\n",
    "sv_gp_2d = SVGP2D(X_train, y_train, Z).to(torch.float64)"
   ]
  },
  {
   "cell_type": "code",
   "execution_count": 30,
   "metadata": {},
   "outputs": [
    {
     "name": "stderr",
     "output_type": "stream",
     "text": [
      "  0%|          | 0/100 [00:00<?, ?it/s]/Users/maxnorman/opt/anaconda3/envs/project_env/lib/python3.9/site-packages/gpytorch/lazy/non_lazy_tensor.py:13: UserWarning: gpytorch.lazy.lazify is deprecated in favor of linear_operator.to_linear_operator\n",
      "  warnings.warn(\"gpytorch.lazy.lazify is deprecated in favor of linear_operator.to_linear_operator\")\n",
      "100%|██████████| 100/100 [00:08<00:00, 12.12it/s]\n"
     ]
    }
   ],
   "source": [
    "# # fit GP\n",
    "NITER = 100# initialize optimizer\n",
    "optimizer = torch.optim.Adam(sv_gp_2d.parameters(), lr=0.1)\n",
    "# perform gradient descent\n",
    "history = torch.empty(NITER)\n",
    "for i in tqdm(range(NITER)):\n",
    "    optimizer.zero_grad()\n",
    "    elbow = -sv_gp_2d._elbo()\n",
    "    history[i] = elbow.item()\n",
    "    elbow.backward()\n",
    "    optimizer.step()"
   ]
  },
  {
   "attachments": {},
   "cell_type": "markdown",
   "metadata": {},
   "source": [
    "# VFF"
   ]
  },
  {
   "cell_type": "code",
   "execution_count": 31,
   "metadata": {},
   "outputs": [],
   "source": [
    "# frequencies\n",
    "N_FREQ = 15"
   ]
  },
  {
   "cell_type": "code",
   "execution_count": 32,
   "metadata": {},
   "outputs": [],
   "source": [
    "\n",
    "vff_gp_2d = VFFGP2D(X_train, y_train, N_FREQ, X1LIMS, X2LIMS).to(torch.float64)"
   ]
  },
  {
   "cell_type": "code",
   "execution_count": 33,
   "metadata": {},
   "outputs": [
    {
     "name": "stderr",
     "output_type": "stream",
     "text": [
      "100%|██████████| 100/100 [06:19<00:00,  3.80s/it]\n"
     ]
    }
   ],
   "source": [
    "# # fit GP\n",
    "NITER = 100\n",
    "optimizer = torch.optim.Adam(vff_gp_2d.parameters(), lr=0.1)\n",
    "# perform gradient descent\n",
    "history = torch.empty(NITER)\n",
    "for i in tqdm(range(NITER)):\n",
    "    optimizer.zero_grad()\n",
    "    elbow = -vff_gp_2d._elbo()\n",
    "    history[i] = elbow.item()\n",
    "    elbow.backward()\n",
    "    optimizer.step()"
   ]
  },
  {
   "attachments": {},
   "cell_type": "markdown",
   "metadata": {},
   "source": [
    "# AVSVGP"
   ]
  },
  {
   "cell_type": "code",
   "execution_count": 34,
   "metadata": {},
   "outputs": [],
   "source": [
    "# parameters\n",
    "ASVGPDIM1LIMS = (-1., 2.) # add buffer to the limits to avoid edge effects\n",
    "ASVGPDIM2LIMS = (-1., 2.) # add buffer to the limits to avoid edge effects\n",
    "N_KNOTS = 15"
   ]
  },
  {
   "cell_type": "code",
   "execution_count": 35,
   "metadata": {},
   "outputs": [],
   "source": [
    "asv_gp_2d = ASVGPGP2D(X_train, y_train, N_KNOTS, ASVGPDIM1LIMS, ASVGPDIM2LIMS).to(torch.float64)"
   ]
  },
  {
   "cell_type": "code",
   "execution_count": 36,
   "metadata": {},
   "outputs": [
    {
     "name": "stderr",
     "output_type": "stream",
     "text": [
      "100%|██████████| 100/100 [03:02<00:00,  1.83s/it]\n"
     ]
    }
   ],
   "source": [
    "# # fit GP\n",
    "NITER = 100# initialize optimizer\n",
    "optimizer = torch.optim.Adam(asv_gp_2d.parameters(), lr=0.1)\n",
    "# perform gradient descent\n",
    "history = torch.empty(NITER)\n",
    "for i in tqdm(range(NITER)):\n",
    "    optimizer.zero_grad()\n",
    "    elbow = -asv_gp_2d._elbo()\n",
    "    history[i] = elbow.item()\n",
    "    elbow.backward()\n",
    "    optimizer.step()"
   ]
  },
  {
   "attachments": {},
   "cell_type": "markdown",
   "metadata": {},
   "source": [
    "# Comparison"
   ]
  },
  {
   "cell_type": "code",
   "execution_count": 39,
   "metadata": {},
   "outputs": [
    {
     "name": "stderr",
     "output_type": "stream",
     "text": [
      "/Users/maxnorman/opt/anaconda3/envs/project_env/lib/python3.9/site-packages/gpytorch/lazy/non_lazy_tensor.py:13: UserWarning: gpytorch.lazy.lazify is deprecated in favor of linear_operator.to_linear_operator\n",
      "  warnings.warn(\"gpytorch.lazy.lazify is deprecated in favor of linear_operator.to_linear_operator\")\n"
     ]
    }
   ],
   "source": [
    "# get predictions\n",
    "f_pred_svgp = sv_gp_2d.posterior(X_train)\n",
    "f_pred_vffgp = vff_gp_2d.posterior(X_train)\n",
    "f_pred_asvgp = asv_gp_2d.posterior(X_train)"
   ]
  },
  {
   "cell_type": "code",
   "execution_count": 48,
   "metadata": {},
   "outputs": [
    {
     "data": {
      "image/png": "[encoded data removed]",
      "text/plain": [
       "<Figure size 2000x500 with 5 Axes>"
      ]
     },
     "metadata": {},
     "output_type": "display_data"
    }
   ],
   "source": [
    "fig, (ax1, ax2, ax3, ax4) = plt.subplots(1, 4, figsize=(20, 5))\n",
    "\n",
    "# ground truth\n",
    "im1 = ax1.imshow(y.reshape(N_OBS, N_OBS), extent = EXTENT, cmap='coolwarm')\n",
    "ax1.set_title(\"Ground truth\")\n",
    "\n",
    "# plot SVGP\n",
    "im2 = ax2.imshow(f_pred_svgp.mean.detach().numpy().reshape(N_OBS, N_OBS), extent = EXTENT, cmap='coolwarm')\n",
    "ax2.set_title(\"SVGP\")\n",
    "\n",
    "# plot VFFGP\n",
    "im3 = ax3.imshow(f_pred_vffgp.mean.detach().numpy().reshape(N_OBS, N_OBS), extent = EXTENT, cmap='coolwarm')\n",
    "ax3.set_title(\"VFFGP\")\n",
    "\n",
    "# plot ASVGP\n",
    "im4 = ax4.imshow(f_pred_asvgp.mean.detach().numpy().reshape(N_OBS, N_OBS), extent = EXTENT, cmap='coolwarm')\n",
    "ax4.set_title(\"ASVGP\")\n",
    "\n",
    "# Create a new axis for the colorbar\n",
    "cax = fig.add_axes([0.92, 0.15, 0.02, 0.7])  # [left, bottom, width, height]\n",
    "\n",
    "# Add the colorbar to the new axis\n",
    "plt.colorbar(im4, cax=cax)\n",
    "\n",
    "plt.show()\n"
   ]
  },
  {
   "cell_type": "code",
   "execution_count": null,
   "metadata": {},
   "outputs": [],
   "source": []
  }
 ],
 "metadata": {
  "kernelspec": {
   "display_name": "project_env",
   "language": "python",
   "name": "python3"
  },
  "language_info": {
   "codemirror_mode": {
    "name": "ipython",
    "version": 3
   },
   "file_extension": ".py",
   "mimetype": "text/x-python",
   "name": "python",
   "nbconvert_exporter": "python",
   "pygments_lexer": "ipython3",
   "version": "3.9.12"
  },
  "orig_nbformat": 4
 },
 "nbformat": 4,
 "nbformat_minor": 2
}
