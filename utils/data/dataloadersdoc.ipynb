{
 "cells": [
  {
   "attachments": {},
   "cell_type": "markdown",
   "metadata": {},
   "source": [
    "# **MissionData**\n",
    "\n",
    "## Description\n",
    "\n",
    "The `MissionData` class offers a convenient solution for retrieving mission-specific altimeter data from [copernicus](https://www.copernicus.eu/en) within a specified time range and geographical coordinates for individual satellites. The class supports retreiving data for the following satellites; e1, e1g, e2, tp, tpn, g2, j1, j1n, j1g, j2, j2n, j2g, j3, j3n, en, enn, c2, c2n, al, alg, h2a, h2ag, h2b, h2c, s3a, s3b, s6a-hr, and s6a-lr. Presently, it is tailored specifically for the [European Seas Along Track L3 Sea Surface Heights Reprocessed 1993 Ongoing Tailored For Data Assimilation product](https://data.marine.copernicus.eu/product/SEALEVEL_EUR_PHY_L3_MY_008_061/services) offered by Copernicus. \n",
    "\n",
    "\n",
    "\n",
    "\n",
    "This class is built for the following directory structure:\n",
    "\n",
    "- root_folder:\n",
    "    - cmems_obs-sl_eur_phy-ssh_my_[**MISSION NAME HERE**]-l3-duacs_PT1S:\n",
    "        - year j:\n",
    "            - month 01\n",
    "                - file 1\n",
    "                - file 2\n",
    "                - ...\n",
    "            - month 02\n",
    "            - ...\n",
    "            - month 12\n",
    "        - year j+1:\n",
    "            - ...\n",
    "    - ...\n",
    "\n",
    "Note: the class includes longitude processing to convert the values from a range of [0, 360] to [-180, 180].\n",
    "\n",
    "\n",
    "\n",
    "\n",
    "## Arguments\n",
    "\n",
    "* `root_folder (str)` : The path of the root folder where the mission specific data directories are located. (e.g '/Users/user1/UCL/thesis/data/raw').\n",
    "\n",
    "* `mission_name (str)` : The name of the desired mission. Note that the provided mission name must be in: e1, e1g, e2, tp, tpn, g2, j1, j1n, j1g, j2, j2n, j2g, j3, j3n, en, enn, c2, c2n, al, alg, h2a, h2ag, h2b, h2c, s3a, s3b, s6a-hr, and s6a-lr. (e.g 'al')\n",
    "\n",
    "* `year (List[str])` : Year(s) of desired observation(s). (e.g ['2012'] for 2012 observations)\n",
    "\n",
    "* `month (List[str])` : Month(s) of desired observation(s). (e.g ['01', '12'] for January and December \n",
    "observations)\n",
    "\n",
    "* `latitude_range (Tuple[float, float])` : Tuple of latitude range of observations, (e.g (0, 90) for upper hemisphere).\n",
    "\n",
    "* `longitude_range (Tuple[float, float])` : Tuple of longitude range of observations, (e.g (0, 180) for eastern half of planet).\n",
    "\n",
    "\n",
    "## Demo"
   ]
  },
  {
   "cell_type": "code",
   "execution_count": 2,
   "metadata": {},
   "outputs": [],
   "source": [
    "from dataloaders import MissionData\n",
    "\n",
    "al_2013_all_months = MissionData(root_folder = '/Users/maxnorman/UCL/thesis/data/raw', mission_name = 'al', years = ['2013'], months = ['03', '04', '05', '06', '07', '08', '09', '10', '12'])"
   ]
  },
  {
   "cell_type": "code",
   "execution_count": null,
   "metadata": {},
   "outputs": [],
   "source": []
  }
 ],
 "metadata": {
  "kernelspec": {
   "display_name": "project_env",
   "language": "python",
   "name": "python3"
  },
  "language_info": {
   "codemirror_mode": {
    "name": "ipython",
    "version": 3
   },
   "file_extension": ".py",
   "mimetype": "text/x-python",
   "name": "python",
   "nbconvert_exporter": "python",
   "pygments_lexer": "ipython3",
   "version": "3.9.12"
  },
  "orig_nbformat": 4
 },
 "nbformat": 4,
 "nbformat_minor": 2
}
