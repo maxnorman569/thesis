{
 "cells": [
  {
   "attachments": {},
   "cell_type": "markdown",
   "metadata": {},
   "source": [
    "# Mission Data\n",
    "\n",
    "The `MissionData` class provides a convenient way to load mission specific data for a specified time period.\n",
    "\n",
    "## Parameters\n",
    "\n",
    "* `mission_folder (str)` : Root folder where mission folders can be located. \n",
    "* `mission_name (List[str])` : Name of mission folder. Naming convenention follows `cmems_obs-sl_eur_phy-ssh_my_<MISSION NAME>-l3-duacs_PT1S`. Mission name must be in: `['e1', 'e1g',  'e2', 'tp', 'tpn', 'g2', 'j1', 'j1n', 'j1g', 'j2', 'j2n', 'j2g', 'j3', 'j3n', 'en', 'enn', 'c2', 'c2n', 'al', 'alg', 'h2a', 'h2ag', 'h2b', 'h2c', 's3a', 's3b', 's6a-hr', 's6a-lr']`.\n",
    "* `year (List[str])` : Year(s) of desired observation(s).\n",
    "* `month (List[str])` : Month(s) of desired observation(s)."
   ]
  },
  {
   "cell_type": "code",
   "execution_count": 2,
   "metadata": {},
   "outputs": [],
   "source": [
    "from dataloaders import MissionData\n",
    "\n",
    "al_2013_all_months = MissionData(root_folder = '/Users/maxnorman/UCL/thesis/data/raw', mission_name = 'al', years = ['2013'], months = ['03', '04', '05', '06', '07', '08', '09', '10', '12'])"
   ]
  },
  {
   "cell_type": "code",
   "execution_count": null,
   "metadata": {},
   "outputs": [],
   "source": []
  }
 ],
 "metadata": {
  "kernelspec": {
   "display_name": "project_env",
   "language": "python",
   "name": "python3"
  },
  "language_info": {
   "codemirror_mode": {
    "name": "ipython",
    "version": 3
   },
   "file_extension": ".py",
   "mimetype": "text/x-python",
   "name": "python",
   "nbconvert_exporter": "python",
   "pygments_lexer": "ipython3",
   "version": "3.9.12"
  },
  "orig_nbformat": 4
 },
 "nbformat": 4,
 "nbformat_minor": 2
}
